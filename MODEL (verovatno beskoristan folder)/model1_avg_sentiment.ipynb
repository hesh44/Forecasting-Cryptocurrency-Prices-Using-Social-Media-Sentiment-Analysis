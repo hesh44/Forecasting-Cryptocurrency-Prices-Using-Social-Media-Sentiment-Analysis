{
 "cells": [
  {
   "cell_type": "code",
   "execution_count": 26,
   "metadata": {},
   "outputs": [],
   "source": [
    "import pandas as pd\n",
    "import numpy as np\n",
    "import re\n",
    "import matplotlib.pyplot as plt\n",
    "from sklearn.model_selection import train_test_split\n",
    "from sklearn.metrics import accuracy_score, classification_report\n",
    "from sklearn.discriminant_analysis import LinearDiscriminantAnalysis"
   ]
  },
  {
   "cell_type": "code",
   "execution_count": 27,
   "metadata": {},
   "outputs": [
    {
     "data": {
      "text/html": [
       "<div>\n",
       "<style scoped>\n",
       "    .dataframe tbody tr th:only-of-type {\n",
       "        vertical-align: middle;\n",
       "    }\n",
       "\n",
       "    .dataframe tbody tr th {\n",
       "        vertical-align: top;\n",
       "    }\n",
       "\n",
       "    .dataframe thead th {\n",
       "        text-align: right;\n",
       "    }\n",
       "</style>\n",
       "<table border=\"1\" class=\"dataframe\">\n",
       "  <thead>\n",
       "    <tr style=\"text-align: right;\">\n",
       "      <th></th>\n",
       "      <th>Row Labels</th>\n",
       "      <th>Average of Voted Score</th>\n",
       "      <th>BTC open value</th>\n",
       "      <th>BTC close value</th>\n",
       "      <th>Trend</th>\n",
       "    </tr>\n",
       "  </thead>\n",
       "  <tbody>\n",
       "    <tr>\n",
       "      <th>0</th>\n",
       "      <td>2020-12-01 00:00:00</td>\n",
       "      <td>0.371367</td>\n",
       "      <td>19219.878400</td>\n",
       "      <td>19196.724900</td>\n",
       "      <td>0.0</td>\n",
       "    </tr>\n",
       "    <tr>\n",
       "      <th>1</th>\n",
       "      <td>2020-12-02 00:00:00</td>\n",
       "      <td>1.552885</td>\n",
       "      <td>18941.746100</td>\n",
       "      <td>18965.663700</td>\n",
       "      <td>1.0</td>\n",
       "    </tr>\n",
       "    <tr>\n",
       "      <th>2</th>\n",
       "      <td>2020-12-03 00:00:00</td>\n",
       "      <td>0.496924</td>\n",
       "      <td>19240.132200</td>\n",
       "      <td>19231.922400</td>\n",
       "      <td>0.0</td>\n",
       "    </tr>\n",
       "    <tr>\n",
       "      <th>3</th>\n",
       "      <td>2020-12-04 00:00:00</td>\n",
       "      <td>0.150406</td>\n",
       "      <td>18990.606100</td>\n",
       "      <td>18977.465700</td>\n",
       "      <td>0.0</td>\n",
       "    </tr>\n",
       "    <tr>\n",
       "      <th>4</th>\n",
       "      <td>2020-12-05 00:00:00</td>\n",
       "      <td>4.759396</td>\n",
       "      <td>18922.234700</td>\n",
       "      <td>18949.649400</td>\n",
       "      <td>1.0</td>\n",
       "    </tr>\n",
       "    <tr>\n",
       "      <th>...</th>\n",
       "      <td>...</td>\n",
       "      <td>...</td>\n",
       "      <td>...</td>\n",
       "      <td>...</td>\n",
       "      <td>...</td>\n",
       "    </tr>\n",
       "    <tr>\n",
       "      <th>127</th>\n",
       "      <td>2021-04-27 00:00:00</td>\n",
       "      <td>5.807346</td>\n",
       "      <td>54582.006421</td>\n",
       "      <td>54630.066737</td>\n",
       "      <td>1.0</td>\n",
       "    </tr>\n",
       "    <tr>\n",
       "      <th>128</th>\n",
       "      <td>2021-04-28 00:00:00</td>\n",
       "      <td>1.733528</td>\n",
       "      <td>54736.099333</td>\n",
       "      <td>54725.624381</td>\n",
       "      <td>0.0</td>\n",
       "    </tr>\n",
       "    <tr>\n",
       "      <th>129</th>\n",
       "      <td>2021-04-29 00:00:00</td>\n",
       "      <td>0.450545</td>\n",
       "      <td>53691.891900</td>\n",
       "      <td>53654.725200</td>\n",
       "      <td>0.0</td>\n",
       "    </tr>\n",
       "    <tr>\n",
       "      <th>130</th>\n",
       "      <td>2021-04-30 00:00:00</td>\n",
       "      <td>0.179240</td>\n",
       "      <td>55403.227573</td>\n",
       "      <td>55591.135049</td>\n",
       "      <td>1.0</td>\n",
       "    </tr>\n",
       "    <tr>\n",
       "      <th>131</th>\n",
       "      <td>Grand Total</td>\n",
       "      <td>2.364823</td>\n",
       "      <td>41059.032351</td>\n",
       "      <td>41075.197467</td>\n",
       "      <td>NaN</td>\n",
       "    </tr>\n",
       "  </tbody>\n",
       "</table>\n",
       "<p>132 rows × 5 columns</p>\n",
       "</div>"
      ],
      "text/plain": [
       "              Row Labels  Average of Voted Score  BTC open value  \\\n",
       "0    2020-12-01 00:00:00                0.371367    19219.878400   \n",
       "1    2020-12-02 00:00:00                1.552885    18941.746100   \n",
       "2    2020-12-03 00:00:00                0.496924    19240.132200   \n",
       "3    2020-12-04 00:00:00                0.150406    18990.606100   \n",
       "4    2020-12-05 00:00:00                4.759396    18922.234700   \n",
       "..                   ...                     ...             ...   \n",
       "127  2021-04-27 00:00:00                5.807346    54582.006421   \n",
       "128  2021-04-28 00:00:00                1.733528    54736.099333   \n",
       "129  2021-04-29 00:00:00                0.450545    53691.891900   \n",
       "130  2021-04-30 00:00:00                0.179240    55403.227573   \n",
       "131          Grand Total                2.364823    41059.032351   \n",
       "\n",
       "     BTC close value  Trend  \n",
       "0       19196.724900    0.0  \n",
       "1       18965.663700    1.0  \n",
       "2       19231.922400    0.0  \n",
       "3       18977.465700    0.0  \n",
       "4       18949.649400    1.0  \n",
       "..               ...    ...  \n",
       "127     54630.066737    1.0  \n",
       "128     54725.624381    0.0  \n",
       "129     53654.725200    0.0  \n",
       "130     55591.135049    1.0  \n",
       "131     41075.197467    NaN  \n",
       "\n",
       "[132 rows x 5 columns]"
      ]
     },
     "execution_count": 27,
     "metadata": {},
     "output_type": "execute_result"
    }
   ],
   "source": [
    "df0 = pd.read_excel('mergeBTC_avg_sentiment.xlsx',  header=0)\n",
    "df0"
   ]
  },
  {
   "cell_type": "code",
   "execution_count": 31,
   "metadata": {},
   "outputs": [
    {
     "name": "stderr",
     "output_type": "stream",
     "text": [
      "C:\\Users\\hesh\\anaconda3\\lib\\site-packages\\pandas\\core\\frame.py:4163: SettingWithCopyWarning: \n",
      "A value is trying to be set on a copy of a slice from a DataFrame\n",
      "\n",
      "See the caveats in the documentation: https://pandas.pydata.org/pandas-docs/stable/user_guide/indexing.html#returning-a-view-versus-a-copy\n",
      "  return super().drop(\n"
     ]
    },
    {
     "data": {
      "text/html": [
       "<div>\n",
       "<style scoped>\n",
       "    .dataframe tbody tr th:only-of-type {\n",
       "        vertical-align: middle;\n",
       "    }\n",
       "\n",
       "    .dataframe tbody tr th {\n",
       "        vertical-align: top;\n",
       "    }\n",
       "\n",
       "    .dataframe thead th {\n",
       "        text-align: right;\n",
       "    }\n",
       "</style>\n",
       "<table border=\"1\" class=\"dataframe\">\n",
       "  <thead>\n",
       "    <tr style=\"text-align: right;\">\n",
       "      <th></th>\n",
       "      <th>Average of Voted Score</th>\n",
       "      <th>BTC close value</th>\n",
       "      <th>Trend</th>\n",
       "    </tr>\n",
       "  </thead>\n",
       "  <tbody>\n",
       "    <tr>\n",
       "      <th>0</th>\n",
       "      <td>0.371367</td>\n",
       "      <td>19196.724900</td>\n",
       "      <td>0.0</td>\n",
       "    </tr>\n",
       "    <tr>\n",
       "      <th>1</th>\n",
       "      <td>1.552885</td>\n",
       "      <td>18965.663700</td>\n",
       "      <td>1.0</td>\n",
       "    </tr>\n",
       "    <tr>\n",
       "      <th>2</th>\n",
       "      <td>0.496924</td>\n",
       "      <td>19231.922400</td>\n",
       "      <td>0.0</td>\n",
       "    </tr>\n",
       "    <tr>\n",
       "      <th>3</th>\n",
       "      <td>0.150406</td>\n",
       "      <td>18977.465700</td>\n",
       "      <td>0.0</td>\n",
       "    </tr>\n",
       "    <tr>\n",
       "      <th>4</th>\n",
       "      <td>4.759396</td>\n",
       "      <td>18949.649400</td>\n",
       "      <td>1.0</td>\n",
       "    </tr>\n",
       "    <tr>\n",
       "      <th>...</th>\n",
       "      <td>...</td>\n",
       "      <td>...</td>\n",
       "      <td>...</td>\n",
       "    </tr>\n",
       "    <tr>\n",
       "      <th>126</th>\n",
       "      <td>0.783132</td>\n",
       "      <td>53083.025644</td>\n",
       "      <td>1.0</td>\n",
       "    </tr>\n",
       "    <tr>\n",
       "      <th>127</th>\n",
       "      <td>5.807346</td>\n",
       "      <td>54630.066737</td>\n",
       "      <td>1.0</td>\n",
       "    </tr>\n",
       "    <tr>\n",
       "      <th>128</th>\n",
       "      <td>1.733528</td>\n",
       "      <td>54725.624381</td>\n",
       "      <td>0.0</td>\n",
       "    </tr>\n",
       "    <tr>\n",
       "      <th>129</th>\n",
       "      <td>0.450545</td>\n",
       "      <td>53654.725200</td>\n",
       "      <td>0.0</td>\n",
       "    </tr>\n",
       "    <tr>\n",
       "      <th>130</th>\n",
       "      <td>0.179240</td>\n",
       "      <td>55591.135049</td>\n",
       "      <td>1.0</td>\n",
       "    </tr>\n",
       "  </tbody>\n",
       "</table>\n",
       "<p>131 rows × 3 columns</p>\n",
       "</div>"
      ],
      "text/plain": [
       "     Average of Voted Score  BTC close value  Trend\n",
       "0                  0.371367     19196.724900    0.0\n",
       "1                  1.552885     18965.663700    1.0\n",
       "2                  0.496924     19231.922400    0.0\n",
       "3                  0.150406     18977.465700    0.0\n",
       "4                  4.759396     18949.649400    1.0\n",
       "..                      ...              ...    ...\n",
       "126                0.783132     53083.025644    1.0\n",
       "127                5.807346     54630.066737    1.0\n",
       "128                1.733528     54725.624381    0.0\n",
       "129                0.450545     53654.725200    0.0\n",
       "130                0.179240     55591.135049    1.0\n",
       "\n",
       "[131 rows x 3 columns]"
      ]
     },
     "execution_count": 31,
     "metadata": {},
     "output_type": "execute_result"
    }
   ],
   "source": [
    "kolone = [ 'Average of Voted Score', 'BTC close value', 'Trend']\n",
    "df = df0[kolone]\n",
    "# popunjavamo NaN vrednosti sa prethodnikom \n",
    "# df = df.fillna(method='ffill')\n",
    "# drop last n rows\n",
    "df.drop(df.tail(1).index,inplace=True) \n",
    "df"
   ]
  },
  {
   "cell_type": "code",
   "execution_count": 32,
   "metadata": {},
   "outputs": [],
   "source": [
    "X = df\n",
    "X = np.array(X.drop(['Trend'],1))\n",
    "y = np.array(df['Trend'])"
   ]
  },
  {
   "cell_type": "code",
   "execution_count": 33,
   "metadata": {},
   "outputs": [],
   "source": [
    "x_train, x_test, y_train, y_test = train_test_split(X, y, test_size=0.2, random_state=0)"
   ]
  },
  {
   "cell_type": "code",
   "execution_count": 34,
   "metadata": {},
   "outputs": [
    {
     "data": {
      "text/plain": [
       "(array([], dtype=int64), array([], dtype=int64))"
      ]
     },
     "execution_count": 34,
     "metadata": {},
     "output_type": "execute_result"
    }
   ],
   "source": [
    "\n",
    "np.where(np.isnan(X))"
   ]
  },
  {
   "cell_type": "code",
   "execution_count": 35,
   "metadata": {},
   "outputs": [],
   "source": [
    "model = LinearDiscriminantAnalysis().fit(x_train, y_train)"
   ]
  },
  {
   "cell_type": "code",
   "execution_count": 36,
   "metadata": {
    "scrolled": true
   },
   "outputs": [
    {
     "data": {
      "text/plain": [
       "array([1., 1., 1., 1., 1., 1., 1., 1., 1., 1., 1., 1., 1., 1., 1., 1., 0.,\n",
       "       1., 1., 1., 1., 1., 1., 1., 1., 1., 1.])"
      ]
     },
     "execution_count": 36,
     "metadata": {},
     "output_type": "execute_result"
    }
   ],
   "source": [
    "predikcije = model.predict(x_test)\n",
    "predikcije"
   ]
  },
  {
   "cell_type": "code",
   "execution_count": 37,
   "metadata": {},
   "outputs": [
    {
     "data": {
      "text/plain": [
       "array([1., 0., 0., 0., 0., 0., 0., 0., 1., 1., 0., 0., 0., 1., 1., 1., 1.,\n",
       "       1., 0., 1., 1., 0., 1., 0., 1., 1., 1.])"
      ]
     },
     "execution_count": 37,
     "metadata": {},
     "output_type": "execute_result"
    }
   ],
   "source": [
    "y_test"
   ]
  },
  {
   "cell_type": "code",
   "execution_count": 38,
   "metadata": {},
   "outputs": [
    {
     "name": "stdout",
     "output_type": "stream",
     "text": [
      "              precision    recall  f1-score   support\n",
      "\n",
      "         0.0       0.00      0.00      0.00        13\n",
      "         1.0       0.50      0.93      0.65        14\n",
      "\n",
      "    accuracy                           0.48        27\n",
      "   macro avg       0.25      0.46      0.33        27\n",
      "weighted avg       0.26      0.48      0.34        27\n",
      "\n"
     ]
    }
   ],
   "source": [
    "print(classification_report(y_test, predikcije))"
   ]
  },
  {
   "cell_type": "code",
   "execution_count": 40,
   "metadata": {},
   "outputs": [
    {
     "data": {
      "image/png": "[encoded data removed]",
      "text/plain": [
       "<Figure size 432x288 with 3 Axes>"
      ]
     },
     "metadata": {},
     "output_type": "display_data"
    }
   ],
   "source": [
    "fig=plt.figure()\n",
    "ax=fig.add_subplot(111, label=\"1\")\n",
    "ax2=fig.add_subplot(111, label=\"2\", frame_on=False)\n",
    "ax3=fig.add_subplot(111, label=\"3\", frame_on=False)\n",
    "\n",
    "ax.plot(df.index, df['Average of Voted Score'], color=\"C0\")\n",
    "ax.set_xlabel(\"days\")\n",
    "ax.set_ylabel(\"Average of Voted Score\", color=\"C0\")\n",
    "ax.tick_params(axis='x', colors=\"C0\")\n",
    "ax.tick_params(axis='y', colors=\"C0\")\n",
    "\n",
    "ax2.plot(df.index, df['BTC close value'], color=\"C1\")\n",
    "#ax2.xaxis.tick_top()\n",
    "ax2.yaxis.tick_right()\n",
    "#ax2.set_xlabel('days', color=\"C1\") \n",
    "ax2.set_ylabel('BTC close value', color=\"C1\")       \n",
    "ax2.xaxis.set_label_position('top') \n",
    "ax2.yaxis.set_label_position('right') \n",
    "ax2.tick_params(axis='x')\n",
    "ax2.tick_params(axis='y', colors=\"C1\")\n",
    "\n",
    "#ax3.plot(df.index, df['BTC close value'], color=\"C3\")\n",
    "ax3.set_xticks([])\n",
    "ax3.set_yticks([])\n",
    "\n",
    "plt.show()"
   ]
  },
  {
   "cell_type": "code",
   "execution_count": null,
   "metadata": {},
   "outputs": [],
   "source": []
  }
 ],
 "metadata": {
  "kernelspec": {
   "display_name": "Python 3",
   "language": "python",
   "name": "python3"
  },
  "language_info": {
   "codemirror_mode": {
    "name": "ipython",
    "version": 3
   },
   "file_extension": ".py",
   "mimetype": "text/x-python",
   "name": "python",
   "nbconvert_exporter": "python",
   "pygments_lexer": "ipython3",
   "version": "3.8.5"
  }
 },
 "nbformat": 4,
 "nbformat_minor": 4
}
